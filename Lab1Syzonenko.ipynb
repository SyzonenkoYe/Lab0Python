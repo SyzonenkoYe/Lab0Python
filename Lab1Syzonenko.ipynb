{
 "cells": [
  {
   "cell_type": "markdown",
   "id": "75b917c1",
   "metadata": {},
   "source": [
    "# Норвегія\n",
    "\n",
    "---\n",
    "\n",
    "## Основна інформація\n",
    "**Офіційна назва:** Королівство Норвегія\n",
    "**Площа:**  385 207 км²  \n",
    "**Населення:** 5 550 203 осіб (станом на 2024) \n",
    "**Державний устрій:** Конституційна монархія  \n",
    "\n",
    "---\n",
    "\n",
    "### Видатні персоналії\n",
    "1. **Йонас Гар Стере** -  прем'єр-міністр Норвегії.\n",
    "2. **Фритьоф Нансен** - полярний дослідник.\n",
    "\n",
    "--- \n",
    "\n",
    "## Пам'ятники культури\n",
    "- *Історичні пам'ятники*\n",
    "    1. Середньовічні фортеці\n",
    "    2. Давні церкви\n",
    "- *Сучасне мистецтво*\n",
    "    - Музей сучасного мистецтва в Осло\n",
    "   \n",
    "---\n",
    "\n",
    "## **Пам'ятки Норвегії**\n",
    "| Пам'ятка                 | Опис                          |\n",
    "|--------------------------|-------------------------------|\n",
    "| **Гейрангерфьйорд**     | Світова спадщина ЮНЕСКО       |\n",
    "| **Лофотенські острови** | Відомі своїми горами та пляжами |\n",
    "| **Осло**                | Столиця Норвегії, культурний центр |\n",
    "\n",
    "---\n",
    "\n",
    "## Карта Норвегії\n",
    "\n",
    "![Карта Норвегії](https://upload.wikimedia.org/wikipedia/commons/thumb/0/01/Europe-Norway.svg/405px-Europe-Norway.svg.png)\n",
    "\n",
    "---\n",
    "\n",
    "## Гіперпосилання \n",
    "\n",
    "[Дізнатися більше про Норвегію](https://uk.wikipedia.org/wiki/Норвегія)\n",
    "\n",
    "\n",
    "---"
   ]
  },
  {
   "cell_type": "code",
   "execution_count": 1,
   "id": "5d0f1894",
   "metadata": {},
   "outputs": [
    {
     "data": {
      "text/html": [
       "<h3>Державний прапор</h3>\n",
       "\n",
       "<svg width=\"220\" height=\"160\">\n",
       "\n",
       "  <rect width=\"220\" height=\"160\" style=\"fill:#BA0C2F;\" />\n",
       "  <rect width=\"220\" height=\"40\" y=\"60\" style=\"fill:white;\" />\n",
       "  <rect width=\"40\" height=\"160\" x=\"60\" style=\"fill:white;\" />\n",
       "  <rect width=\"220\" height=\"24\" y=\"68\" style=\"fill:#00205B;\" />\n",
       "  <rect width=\"24\" height=\"160\" x=\"68\" style=\"fill:#00205B;\" />\n",
       "</svg>\n",
       "   \n"
      ],
      "text/plain": [
       "<IPython.core.display.HTML object>"
      ]
     },
     "metadata": {},
     "output_type": "display_data"
    }
   ],
   "source": [
    "%%HTML\n",
    "<h3>Державний прапор</h3>\n",
    "\n",
    "<svg width=\"220\" height=\"160\">\n",
    "\n",
    "  <rect width=\"220\" height=\"160\" style=\"fill:#BA0C2F;\" />\n",
    "  <rect width=\"220\" height=\"40\" y=\"60\" style=\"fill:white;\" />\n",
    "  <rect width=\"40\" height=\"160\" x=\"60\" style=\"fill:white;\" />\n",
    "  <rect width=\"220\" height=\"24\" y=\"68\" style=\"fill:#00205B;\" />\n",
    "  <rect width=\"24\" height=\"160\" x=\"68\" style=\"fill:#00205B;\" />\n",
    "</svg>\n",
    "   "
   ]
  },
  {
   "cell_type": "code",
   "execution_count": null,
   "id": "4512b615",
   "metadata": {},
   "outputs": [],
   "source": [
    "import math\n",
    "\n",
    "def task_4():\n",
    "    N = int(input(\"Введіть число: \"))\n",
    "    \n",
    "    for a in range(1, int(math.sqrt(N)) + 1):\n",
    "        b_square = N - a**2\n",
    "        if b_square >= 0:\n",
    "            b = int(math.sqrt(b_square))\n",
    "            if b**2 == b_square:\n",
    "                print(f\"{a}^2 + {b}^2 = {N}\")\n",
    "                return\n",
    "    \n",
    "    print(f\"Немає таких чисел a і b, щоб a^2 + b^2 = {N}\")\n",
    "    \n",
    "# Тести\n",
    "task_4()  # 45\n",
    "task_4()  # 21\n",
    "        "
   ]
  },
  {
   "cell_type": "code",
   "execution_count": null,
   "id": "dce40f9e",
   "metadata": {},
   "outputs": [],
   "source": []
  },
  {
   "cell_type": "code",
   "execution_count": null,
   "id": "219324be",
   "metadata": {},
   "outputs": [],
   "source": []
  }
 ],
 "metadata": {
  "kernelspec": {
   "display_name": "Python 3 (ipykernel)",
   "language": "python",
   "name": "python3"
  },
  "language_info": {
   "codemirror_mode": {
    "name": "ipython",
    "version": 3
   },
   "file_extension": ".py",
   "mimetype": "text/x-python",
   "name": "python",
   "nbconvert_exporter": "python",
   "pygments_lexer": "ipython3",
   "version": "3.7.1"
  }
 },
 "nbformat": 4,
 "nbformat_minor": 5
}
